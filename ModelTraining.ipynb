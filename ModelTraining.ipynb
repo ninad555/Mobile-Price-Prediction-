{
 "cells": [
  {
   "cell_type": "code",
   "execution_count": 4,
   "metadata": {},
   "outputs": [],
   "source": [
    "import pandas as pd \n",
    "import numpy as np \n",
    "from sklearn.model_selection import train_test_split"
   ]
  },
  {
   "cell_type": "code",
   "execution_count": 5,
   "metadata": {},
   "outputs": [],
   "source": [
    "#loading training data\n",
    "\n",
    "train_data=pd.read_csv('C:/Users/kadam/Downloads/mobile_price_pred/train.csv')\n",
    "\n",
    "#loading testing data\n",
    "\n",
    "test_data=pd.read_csv('C:/Users/kadam/Downloads/mobile_price_pred/test.csv')"
   ]
  },
  {
   "cell_type": "code",
   "execution_count": 6,
   "metadata": {},
   "outputs": [],
   "source": [
    "Features=train_data.drop( columns = ['fc','n_cores','px_height' ,'px_width','price_range', \"wifi\" , \"blue\" , \"clock_speed\" , \"dual_sim\", \"m_dep\",\"mobile_wt\", \"talk_time\" , \"three_g\" , \"touch_screen\" ,\"wifi\"])"
   ]
  },
  {
   "cell_type": "code",
   "execution_count": 7,
   "metadata": {},
   "outputs": [
    {
     "data": {
      "text/html": [
       "<div>\n",
       "<style scoped>\n",
       "    .dataframe tbody tr th:only-of-type {\n",
       "        vertical-align: middle;\n",
       "    }\n",
       "\n",
       "    .dataframe tbody tr th {\n",
       "        vertical-align: top;\n",
       "    }\n",
       "\n",
       "    .dataframe thead th {\n",
       "        text-align: right;\n",
       "    }\n",
       "</style>\n",
       "<table border=\"1\" class=\"dataframe\">\n",
       "  <thead>\n",
       "    <tr style=\"text-align: right;\">\n",
       "      <th></th>\n",
       "      <th>battery_power</th>\n",
       "      <th>four_g</th>\n",
       "      <th>int_memory</th>\n",
       "      <th>pc</th>\n",
       "      <th>ram</th>\n",
       "      <th>sc_h</th>\n",
       "      <th>sc_w</th>\n",
       "    </tr>\n",
       "  </thead>\n",
       "  <tbody>\n",
       "    <tr>\n",
       "      <td>0</td>\n",
       "      <td>842</td>\n",
       "      <td>0</td>\n",
       "      <td>7</td>\n",
       "      <td>2</td>\n",
       "      <td>2549</td>\n",
       "      <td>9</td>\n",
       "      <td>7</td>\n",
       "    </tr>\n",
       "    <tr>\n",
       "      <td>1</td>\n",
       "      <td>1021</td>\n",
       "      <td>1</td>\n",
       "      <td>53</td>\n",
       "      <td>6</td>\n",
       "      <td>2631</td>\n",
       "      <td>17</td>\n",
       "      <td>3</td>\n",
       "    </tr>\n",
       "    <tr>\n",
       "      <td>2</td>\n",
       "      <td>563</td>\n",
       "      <td>1</td>\n",
       "      <td>41</td>\n",
       "      <td>6</td>\n",
       "      <td>2603</td>\n",
       "      <td>11</td>\n",
       "      <td>2</td>\n",
       "    </tr>\n",
       "    <tr>\n",
       "      <td>3</td>\n",
       "      <td>615</td>\n",
       "      <td>0</td>\n",
       "      <td>10</td>\n",
       "      <td>9</td>\n",
       "      <td>2769</td>\n",
       "      <td>16</td>\n",
       "      <td>8</td>\n",
       "    </tr>\n",
       "    <tr>\n",
       "      <td>4</td>\n",
       "      <td>1821</td>\n",
       "      <td>1</td>\n",
       "      <td>44</td>\n",
       "      <td>14</td>\n",
       "      <td>1411</td>\n",
       "      <td>8</td>\n",
       "      <td>2</td>\n",
       "    </tr>\n",
       "  </tbody>\n",
       "</table>\n",
       "</div>"
      ],
      "text/plain": [
       "   battery_power  four_g  int_memory  pc   ram  sc_h  sc_w\n",
       "0            842       0           7   2  2549     9     7\n",
       "1           1021       1          53   6  2631    17     3\n",
       "2            563       1          41   6  2603    11     2\n",
       "3            615       0          10   9  2769    16     8\n",
       "4           1821       1          44  14  1411     8     2"
      ]
     },
     "execution_count": 7,
     "metadata": {},
     "output_type": "execute_result"
    }
   ],
   "source": [
    "Features.head()"
   ]
  },
  {
   "cell_type": "code",
   "execution_count": 8,
   "metadata": {},
   "outputs": [],
   "source": [
    "Label=train_data['price_range']"
   ]
  },
  {
   "cell_type": "code",
   "execution_count": 9,
   "metadata": {},
   "outputs": [],
   "source": [
    "x_train,x_test,y_train,y_test=train_test_split(Features,Label,random_state=4,test_size=0.2)"
   ]
  },
  {
   "cell_type": "markdown",
   "metadata": {},
   "source": [
    "### > Linear Regression"
   ]
  },
  {
   "cell_type": "code",
   "execution_count": 10,
   "metadata": {},
   "outputs": [
    {
     "data": {
      "text/plain": [
       "LinearRegression(copy_X=True, fit_intercept=True, n_jobs=None, normalize=False)"
      ]
     },
     "execution_count": 10,
     "metadata": {},
     "output_type": "execute_result"
    }
   ],
   "source": [
    "from sklearn.linear_model import LinearRegression\n",
    "lr=LinearRegression()\n",
    "lr.fit(x_train,y_train)"
   ]
  },
  {
   "cell_type": "code",
   "execution_count": 11,
   "metadata": {},
   "outputs": [
    {
     "data": {
      "text/plain": [
       "0.14966820407851716"
      ]
     },
     "execution_count": 11,
     "metadata": {},
     "output_type": "execute_result"
    }
   ],
   "source": [
    "from sklearn.metrics import mean_squared_error\n",
    "predict=lr.predict(x_test)\n",
    "mean_squared_error(predict,y_test)"
   ]
  },
  {
   "cell_type": "code",
   "execution_count": 12,
   "metadata": {},
   "outputs": [
    {
     "name": "stdout",
     "output_type": "stream",
     "text": [
      "Accuracy of the Model is =  88.57227469562888 %\n"
     ]
    }
   ],
   "source": [
    "acc=lr.score(x_test,y_test)*100\n",
    "print(\"Accuracy of the Model is = \", acc ,\"%\")"
   ]
  },
  {
   "cell_type": "markdown",
   "metadata": {},
   "source": [
    "### > Knn"
   ]
  },
  {
   "cell_type": "code",
   "execution_count": 13,
   "metadata": {},
   "outputs": [
    {
     "data": {
      "text/plain": [
       "KNeighborsClassifier(algorithm='auto', leaf_size=30, metric='minkowski',\n",
       "                     metric_params=None, n_jobs=None, n_neighbors=10, p=2,\n",
       "                     weights='uniform')"
      ]
     },
     "execution_count": 13,
     "metadata": {},
     "output_type": "execute_result"
    }
   ],
   "source": [
    "from sklearn.neighbors import KNeighborsClassifier\n",
    "knn = KNeighborsClassifier(n_neighbors=10)\n",
    "knn.fit(x_train,y_train)"
   ]
  },
  {
   "cell_type": "code",
   "execution_count": 14,
   "metadata": {},
   "outputs": [
    {
     "name": "stdout",
     "output_type": "stream",
     "text": [
      "Accuracy of Model is : 83.0 %\n",
      "Mean Square Error is : 17.0 %\n"
     ]
    }
   ],
   "source": [
    "knn_predict=knn.predict(x_test)\n",
    "print(\"Accuracy of Model is :\" , knn.score(x_test,y_test)*100,\"%\")\n",
    "print(\"Mean Square Error is :\" , mean_squared_error(knn_predict,y_test)*100 ,\"%\")"
   ]
  },
  {
   "cell_type": "code",
   "execution_count": 15,
   "metadata": {},
   "outputs": [],
   "source": [
    "test=test_data.drop( columns = ['fc','n_cores','px_height' ,'px_width' ,'id', \"wifi\" , \"blue\" , \"clock_speed\" , \"dual_sim\", \"m_dep\",\"mobile_wt\", \"talk_time\" , \"three_g\" , \"touch_screen\" ,\"wifi\"])"
   ]
  },
  {
   "cell_type": "code",
   "execution_count": 16,
   "metadata": {},
   "outputs": [
    {
     "data": {
      "text/html": [
       "<div>\n",
       "<style scoped>\n",
       "    .dataframe tbody tr th:only-of-type {\n",
       "        vertical-align: middle;\n",
       "    }\n",
       "\n",
       "    .dataframe tbody tr th {\n",
       "        vertical-align: top;\n",
       "    }\n",
       "\n",
       "    .dataframe thead th {\n",
       "        text-align: right;\n",
       "    }\n",
       "</style>\n",
       "<table border=\"1\" class=\"dataframe\">\n",
       "  <thead>\n",
       "    <tr style=\"text-align: right;\">\n",
       "      <th></th>\n",
       "      <th>battery_power</th>\n",
       "      <th>four_g</th>\n",
       "      <th>int_memory</th>\n",
       "      <th>pc</th>\n",
       "      <th>ram</th>\n",
       "      <th>sc_h</th>\n",
       "      <th>sc_w</th>\n",
       "    </tr>\n",
       "  </thead>\n",
       "  <tbody>\n",
       "    <tr>\n",
       "      <td>0</td>\n",
       "      <td>1043</td>\n",
       "      <td>0</td>\n",
       "      <td>5</td>\n",
       "      <td>16</td>\n",
       "      <td>3476</td>\n",
       "      <td>12</td>\n",
       "      <td>7</td>\n",
       "    </tr>\n",
       "    <tr>\n",
       "      <td>1</td>\n",
       "      <td>841</td>\n",
       "      <td>1</td>\n",
       "      <td>61</td>\n",
       "      <td>12</td>\n",
       "      <td>3895</td>\n",
       "      <td>6</td>\n",
       "      <td>0</td>\n",
       "    </tr>\n",
       "    <tr>\n",
       "      <td>2</td>\n",
       "      <td>1807</td>\n",
       "      <td>0</td>\n",
       "      <td>27</td>\n",
       "      <td>4</td>\n",
       "      <td>2396</td>\n",
       "      <td>17</td>\n",
       "      <td>10</td>\n",
       "    </tr>\n",
       "    <tr>\n",
       "      <td>3</td>\n",
       "      <td>1546</td>\n",
       "      <td>1</td>\n",
       "      <td>25</td>\n",
       "      <td>20</td>\n",
       "      <td>3893</td>\n",
       "      <td>10</td>\n",
       "      <td>0</td>\n",
       "    </tr>\n",
       "    <tr>\n",
       "      <td>4</td>\n",
       "      <td>1434</td>\n",
       "      <td>1</td>\n",
       "      <td>49</td>\n",
       "      <td>18</td>\n",
       "      <td>1773</td>\n",
       "      <td>15</td>\n",
       "      <td>8</td>\n",
       "    </tr>\n",
       "  </tbody>\n",
       "</table>\n",
       "</div>"
      ],
      "text/plain": [
       "   battery_power  four_g  int_memory  pc   ram  sc_h  sc_w\n",
       "0           1043       0           5  16  3476    12     7\n",
       "1            841       1          61  12  3895     6     0\n",
       "2           1807       0          27   4  2396    17    10\n",
       "3           1546       1          25  20  3893    10     0\n",
       "4           1434       1          49  18  1773    15     8"
      ]
     },
     "execution_count": 16,
     "metadata": {},
     "output_type": "execute_result"
    }
   ],
   "source": [
    "test.head()"
   ]
  },
  {
   "cell_type": "code",
   "execution_count": 17,
   "metadata": {},
   "outputs": [],
   "source": [
    "test_predict=knn.predict(test)"
   ]
  },
  {
   "cell_type": "code",
   "execution_count": 18,
   "metadata": {},
   "outputs": [
    {
     "name": "stdout",
     "output_type": "stream",
     "text": [
      "[3 3 2 3 1 3 3 0 3 0 3 3 0 0 2 0 2 1 3 2 0 2 1 1 3 0 2 0 3 0 2 0 2 0 0 1 2\n",
      " 2 3 1 1 2 0 0 0 1 1 2 1 2 1 0 3 0 3 1 3 1 1 3 3 3 0 2 1 1 1 2 1 1 1 2 2 3\n",
      " 3 0 2 0 2 3 1 3 3 0 3 0 3 1 3 0 1 2 3 0 2 2 0 2 1 3 1 0 0 2 1 2 0 1 2 3 3\n",
      " 2 1 3 3 3 3 1 3 0 0 3 2 2 1 0 3 2 2 1 0 1 1 1 3 0 2 0 3 2 1 3 1 2 3 3 3 3\n",
      " 1 3 2 3 0 0 3 2 3 3 3 3 2 2 3 2 3 3 1 0 3 0 0 0 1 0 0 1 1 0 1 2 0 0 0 0 2\n",
      " 2 2 0 0 0 0 0 0 3 1 1 2 2 2 3 1 2 3 2 3 1 1 1 1 0 1 2 1 2 3 3 0 2 0 3 2 3\n",
      " 3 1 0 1 0 3 0 1 0 2 2 1 2 0 3 0 3 1 2 0 0 2 1 3 2 3 1 2 3 0 0 3 3 3 1 3 1\n",
      " 0 3 2 1 2 3 3 3 1 0 1 2 2 1 1 3 2 0 3 0 1 2 0 0 3 2 3 2 2 1 3 2 2 3 1 2 1\n",
      " 1 0 2 3 1 0 0 3 0 3 0 1 2 0 2 3 1 3 1 2 1 2 0 0 0 1 3 1 0 0 0 3 2 0 3 3 0\n",
      " 3 2 2 3 1 3 3 2 2 3 3 3 0 3 1 3 1 3 1 3 2 0 1 1 3 1 3 2 3 0 0 0 0 2 0 0 1\n",
      " 2 1 2 2 2 0 1 0 0 3 2 1 2 1 1 2 1 2 3 1 1 3 2 1 2 0 1 0 0 3 2 1 0 2 0 0 1\n",
      " 0 0 0 0 2 2 3 1 3 0 3 1 3 0 2 1 1 1 0 2 2 3 2 1 3 2 3 2 3 2 1 2 2 1 2 0 0\n",
      " 0 1 2 0 1 3 2 0 2 2 0 0 3 1 1 0 3 2 3 0 3 1 2 3 2 3 0 1 0 2 2 0 1 1 0 0 1\n",
      " 1 2 3 3 2 2 2 1 1 2 2 2 3 2 1 3 1 2 2 1 0 2 2 0 0 0 3 1 1 2 2 2 1 3 0 2 3\n",
      " 0 3 0 3 3 0 1 1 3 3 1 0 2 3 3 0 2 1 3 0 3 3 1 2 2 2 3 0 1 2 3 1 3 2 3 1 0\n",
      " 1 0 3 1 0 3 2 3 2 0 2 3 3 2 3 3 1 2 1 2 3 3 0 0 1 1 1 2 1 0 0 2 2 3 1 0 2\n",
      " 1 3 3 0 1 3 0 2 1 1 0 0 1 1 0 1 1 2 1 0 2 2 1 0 3 0 0 3 1 0 0 0 0 0 3 0 3\n",
      " 0 3 2 1 3 2 0 2 1 3 2 2 1 0 3 0 2 0 2 0 1 0 1 1 2 1 3 0 3 2 2 1 3 2 0 1 3\n",
      " 0 3 3 0 2 1 1 2 0 3 2 0 3 2 3 0 0 3 0 1 1 3 2 2 2 2 1 2 3 0 1 1 1 2 1 0 0\n",
      " 1 0 0 2 1 1 1 0 1 1 1 2 0 3 3 3 0 0 1 2 2 2 0 1 1 0 1 1 0 0 3 3 1 3 1 2 3\n",
      " 0 1 0 2 2 0 3 1 0 3 1 1 0 3 3 3 2 3 0 3 2 0 1 1 3 3 2 0 1 1 2 1 0 3 2 1 3\n",
      " 1 2 1 1 1 3 1 1 1 2 0 0 2 2 0 2 0 0 1 0 3 3 3 3 0 1 2 2 1 0 0 2 1 0 2 0 2\n",
      " 2 2 1 2 0 2 1 3 0 0 3 1 3 0 0 2 2 2 1 2 2 2 0 0 2 3 0 3 0 0 1 2 2 1 2 0 3\n",
      " 2 1 2 3 3 0 1 1 1 1 2 2 0 2 3 1 2 3 1 2 3 1 0 1 2 3 3 0 2 3 0 2 3 2 1 2 3\n",
      " 2 1 1 2 0 2 1 1 2 2 2 1 2 0 1 1 3 1 0 1 2 3 1 0 0 3 2 2 2 0 2 2 2 1 3 0 0\n",
      " 2 1 2 1 1 3 3 0 3 0 2 2 0 2 2 2 2 1 1 2 3 1 0 2 1 2 1 2 0 2 2 0 2 3 2 3 0\n",
      " 2 0 0 1 2 2 3 0 3 2 2 1 3 0 1 3 0 1 0 0 3 2 2 0 0 0 0 3 3 3 2 0 0 2 1 1 2\n",
      " 2]\n"
     ]
    }
   ],
   "source": [
    "print(test_predict)"
   ]
  },
  {
   "cell_type": "code",
   "execution_count": 19,
   "metadata": {},
   "outputs": [
    {
     "data": {
      "text/html": [
       "<div>\n",
       "<style scoped>\n",
       "    .dataframe tbody tr th:only-of-type {\n",
       "        vertical-align: middle;\n",
       "    }\n",
       "\n",
       "    .dataframe tbody tr th {\n",
       "        vertical-align: top;\n",
       "    }\n",
       "\n",
       "    .dataframe thead th {\n",
       "        text-align: right;\n",
       "    }\n",
       "</style>\n",
       "<table border=\"1\" class=\"dataframe\">\n",
       "  <thead>\n",
       "    <tr style=\"text-align: right;\">\n",
       "      <th></th>\n",
       "      <th>battery_power</th>\n",
       "      <th>four_g</th>\n",
       "      <th>int_memory</th>\n",
       "      <th>pc</th>\n",
       "      <th>ram</th>\n",
       "      <th>sc_h</th>\n",
       "      <th>sc_w</th>\n",
       "      <th>price_range</th>\n",
       "    </tr>\n",
       "  </thead>\n",
       "  <tbody>\n",
       "    <tr>\n",
       "      <td>0</td>\n",
       "      <td>1043</td>\n",
       "      <td>0</td>\n",
       "      <td>5</td>\n",
       "      <td>16</td>\n",
       "      <td>3476</td>\n",
       "      <td>12</td>\n",
       "      <td>7</td>\n",
       "      <td>3</td>\n",
       "    </tr>\n",
       "    <tr>\n",
       "      <td>1</td>\n",
       "      <td>841</td>\n",
       "      <td>1</td>\n",
       "      <td>61</td>\n",
       "      <td>12</td>\n",
       "      <td>3895</td>\n",
       "      <td>6</td>\n",
       "      <td>0</td>\n",
       "      <td>3</td>\n",
       "    </tr>\n",
       "    <tr>\n",
       "      <td>2</td>\n",
       "      <td>1807</td>\n",
       "      <td>0</td>\n",
       "      <td>27</td>\n",
       "      <td>4</td>\n",
       "      <td>2396</td>\n",
       "      <td>17</td>\n",
       "      <td>10</td>\n",
       "      <td>2</td>\n",
       "    </tr>\n",
       "    <tr>\n",
       "      <td>3</td>\n",
       "      <td>1546</td>\n",
       "      <td>1</td>\n",
       "      <td>25</td>\n",
       "      <td>20</td>\n",
       "      <td>3893</td>\n",
       "      <td>10</td>\n",
       "      <td>0</td>\n",
       "      <td>3</td>\n",
       "    </tr>\n",
       "    <tr>\n",
       "      <td>4</td>\n",
       "      <td>1434</td>\n",
       "      <td>1</td>\n",
       "      <td>49</td>\n",
       "      <td>18</td>\n",
       "      <td>1773</td>\n",
       "      <td>15</td>\n",
       "      <td>8</td>\n",
       "      <td>1</td>\n",
       "    </tr>\n",
       "  </tbody>\n",
       "</table>\n",
       "</div>"
      ],
      "text/plain": [
       "   battery_power  four_g  int_memory  pc   ram  sc_h  sc_w  price_range\n",
       "0           1043       0           5  16  3476    12     7            3\n",
       "1            841       1          61  12  3895     6     0            3\n",
       "2           1807       0          27   4  2396    17    10            2\n",
       "3           1546       1          25  20  3893    10     0            3\n",
       "4           1434       1          49  18  1773    15     8            1"
      ]
     },
     "execution_count": 19,
     "metadata": {},
     "output_type": "execute_result"
    }
   ],
   "source": [
    "test['price_range']=test_predict\n",
    "test.head()"
   ]
  },
  {
   "cell_type": "code",
   "execution_count": 20,
   "metadata": {},
   "outputs": [],
   "source": [
    "import pickle\n",
    "pickle_out = open(\"knn.pkl\",\"wb\")\n",
    "pickle.dump(knn, pickle_out)\n",
    "pickle_out.close()"
   ]
  },
  {
   "cell_type": "code",
   "execution_count": 21,
   "metadata": {},
   "outputs": [
    {
     "data": {
      "text/plain": [
       "array([1], dtype=int64)"
      ]
     },
     "execution_count": 21,
     "metadata": {},
     "output_type": "execute_result"
    }
   ],
   "source": [
    "knn.predict([[1000,1,16,16,2000,10,7]])"
   ]
  },
  {
   "cell_type": "code",
   "execution_count": null,
   "metadata": {},
   "outputs": [],
   "source": []
  }
 ],
 "metadata": {
  "kernelspec": {
   "display_name": "Python 3",
   "language": "python",
   "name": "python3"
  },
  "language_info": {
   "codemirror_mode": {
    "name": "ipython",
    "version": 3
   },
   "file_extension": ".py",
   "mimetype": "text/x-python",
   "name": "python",
   "nbconvert_exporter": "python",
   "pygments_lexer": "ipython3",
   "version": "3.7.4"
  }
 },
 "nbformat": 4,
 "nbformat_minor": 2
}
